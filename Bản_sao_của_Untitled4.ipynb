{
  "nbformat": 4,
  "nbformat_minor": 0,
  "metadata": {
    "colab": {
      "provenance": [],
      "authorship_tag": "ABX9TyPjykDjm4V7bvEhwYkEuoyX",
      "include_colab_link": true
    },
    "kernelspec": {
      "name": "python3",
      "display_name": "Python 3"
    },
    "language_info": {
      "name": "python"
    }
  },
  "cells": [
    {
      "cell_type": "markdown",
      "metadata": {
        "id": "view-in-github",
        "colab_type": "text"
      },
      "source": [
        "<a href=\"https://colab.research.google.com/github/boybanggia/DataAnalystDeepLearning/blob/main/B%E1%BA%A3n_sao_c%E1%BB%A7a_Untitled4.ipynb\" target=\"_parent\"><img src=\"https://colab.research.google.com/assets/colab-badge.svg\" alt=\"Open In Colab\"/></a>"
      ]
    },
    {
      "cell_type": "code",
      "source": [
        "from _collections import defaultdict\n",
        "class Graph:\n",
        "    def __init__(self):\n",
        "      self.graph = defaultdict(list)\n",
        "    def addEdge(self, u, v):\n",
        "      self.graph[u].append(v)\n",
        "    def DFSUtil(self, v, visited):\n",
        "      visited[v] = True\n",
        "      print(v, end = ' ')\n",
        "      for i in self.graph[v]:\n",
        "        if visited[i] == False:\n",
        "          self.DFSUtil(i, visited)\n",
        "    def DFS(self, v):\n",
        "      visited = [False] * (max(self.graph) + 1)\n",
        "      self.DFSUtil(v, visited)\n",
        "\n",
        "if __name__ == '_main_':\n",
        "        g = Graph()\n",
        "        g.addEdge(0, 1)\n",
        "        g.addEdge(0, 2)\n",
        "        g.addEdge(1, 2)\n",
        "        g.addEdge(2, 0)\n",
        "        g.addEdge(0, 3)\n",
        "        g.addEdge(3, 3)\n",
        "        print(\"DFS starts with vertex 2\")\n",
        "        g.DFS(2)"
      ],
      "metadata": {
        "id": "ZEcqSWv34xW3"
      },
      "execution_count": 9,
      "outputs": []
    }
  ]
}