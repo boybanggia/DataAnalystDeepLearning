{
  "nbformat": 4,
  "nbformat_minor": 0,
  "metadata": {
    "colab": {
      "name": "Untitled3.ipynb",
      "provenance": [],
      "include_colab_link": true
    },
    "kernelspec": {
      "name": "python3",
      "display_name": "Python 3"
    },
    "language_info": {
      "name": "python"
    }
  },
  "cells": [
    {
      "cell_type": "markdown",
      "metadata": {
        "id": "view-in-github",
        "colab_type": "text"
      },
      "source": [
        "<a href=\"https://colab.research.google.com/github/boybanggia/DataAnalystDeepLearning/blob/main/lab05.ipynb\" target=\"_parent\"><img src=\"https://colab.research.google.com/assets/colab-badge.svg\" alt=\"Open In Colab\"/></a>"
      ]
    },
    {
      "cell_type": "markdown",
      "metadata": {
        "id": "Ur-aNQ-vjywI"
      },
      "source": [
        "# **Mean - Mode - Median**"
      ]
    },
    {
      "cell_type": "markdown",
      "metadata": {
        "id": "1WYoGpzXj1Iw"
      },
      "source": [
        "**Thí dụ 1**"
      ]
    },
    {
      "cell_type": "code",
      "metadata": {
        "colab": {
          "base_uri": "https://localhost:8080/"
        },
        "id": "6RRukDgwj2XQ",
        "outputId": "d025e06d-8dc8-4944-b4e6-57bd78a0f014"
      },
      "source": [
        "from scipy import stats\n",
        "speed = [99,86,87,88,111,86,103,87,94,78,77,85,86]\n",
        "mode = stats.mode(speed)\n",
        "print(mode)"
      ],
      "execution_count": 1,
      "outputs": [
        {
          "output_type": "stream",
          "name": "stdout",
          "text": [
            "ModeResult(mode=array([86]), count=array([3]))\n"
          ]
        }
      ]
    },
    {
      "cell_type": "markdown",
      "metadata": {
        "id": "T87jdBf1j7wo"
      },
      "source": [
        "**Thí dụ 2**"
      ]
    },
    {
      "cell_type": "code",
      "metadata": {
        "colab": {
          "base_uri": "https://localhost:8080/"
        },
        "id": "UnVut8Bsj8Do",
        "outputId": "ced77808-c44b-48de-d369-c8495120e728"
      },
      "source": [
        "import numpy as np\n",
        "speed = [99,86,87,88,111,86,103,87,94,78,77,85,86]\n",
        "median = np.median(speed)\n",
        "print(median)"
      ],
      "execution_count": null,
      "outputs": [
        {
          "output_type": "stream",
          "name": "stdout",
          "text": [
            "87.0\n"
          ]
        }
      ]
    },
    {
      "cell_type": "markdown",
      "metadata": {
        "id": "F--9Fy83j9mI"
      },
      "source": [
        "**Thí dụ 3**\n",
        "\n"
      ]
    },
    {
      "cell_type": "code",
      "metadata": {
        "colab": {
          "base_uri": "https://localhost:8080/"
        },
        "id": "vl9x4_5qj9ud",
        "outputId": "c5ba1a59-02f9-4ece-dc11-a817e116f7bf"
      },
      "source": [
        "\n",
        "import numpy as np\n",
        "speed = [99,86,87,88,111,86,103,87,94,78,77,85,86]\n",
        "mean = np.mean(speed)\n",
        "mean"
      ],
      "execution_count": null,
      "outputs": [
        {
          "output_type": "execute_result",
          "data": {
            "text/plain": [
              "89.76923076923077"
            ]
          },
          "metadata": {},
          "execution_count": 56
        }
      ]
    },
    {
      "cell_type": "markdown",
      "metadata": {
        "id": "7ic8fd1AkEcT"
      },
      "source": [
        "\n",
        "**Khảo sát hình dạng phân phối của tập dữ liệu**\n",
        "\n",
        "**Thí dụ 4** "
      ]
    },
    {
      "cell_type": "code",
      "metadata": {
        "id": "lBPo6JuzkEGj"
      },
      "source": [
        "import pandas as pd\n",
        "dulieuxettuyen = pd.read_csv(\"https://raw.githubusercontent.com/huynhhoc/DataAnalystDeepLearning/main/Data/dulieuxettuyendaihoc.csv\")"
      ],
      "execution_count": null,
      "outputs": []
    },
    {
      "cell_type": "code",
      "metadata": {
        "id": "tKja-UWskJrD"
      },
      "source": [
        "import seaborn as sns"
      ],
      "execution_count": null,
      "outputs": []
    },
    {
      "cell_type": "code",
      "metadata": {
        "colab": {
          "base_uri": "https://localhost:8080/",
          "height": 386
        },
        "id": "LlVT4geAkL9I",
        "outputId": "0bb810d4-80cf-4698-b14e-d18f1ece4a91"
      },
      "source": [
        "sns.displot(dulieuxettuyen, x=\"T1\", kde=True)"
      ],
      "execution_count": null,
      "outputs": [
        {
          "output_type": "execute_result",
          "data": {
            "text/plain": [
              "<seaborn.axisgrid.FacetGrid at 0x7f3af3c5cd50>"
            ]
          },
          "metadata": {},
          "execution_count": 59
        },
        {
          "output_type": "display_data",
          "data": {
            "image/png": "[encoded data removed]",
            "text/plain": [
              "<Figure size 360x360 with 1 Axes>"
            ]
          },
          "metadata": {
            "needs_background": "light"
          }
        }
      ]
    },
    {
      "cell_type": "code",
      "metadata": {
        "colab": {
          "base_uri": "https://localhost:8080/",
          "height": 296
        },
        "id": "QRnNN68XkU2U",
        "outputId": "54151de5-6096-433b-e6b0-52b7c356a5da"
      },
      "source": [
        "sns.boxplot(x='T1', data = dulieuxettuyen)"
      ],
      "execution_count": null,
      "outputs": [
        {
          "output_type": "execute_result",
          "data": {
            "text/plain": [
              "<matplotlib.axes._subplots.AxesSubplot at 0x7f3af3bcf210>"
            ]
          },
          "metadata": {},
          "execution_count": 60
        },
        {
          "output_type": "display_data",
          "data": {
            "image/png": "[encoded data removed]",
            "text/plain": [
              "<Figure size 432x288 with 1 Axes>"
            ]
          },
          "metadata": {
            "needs_background": "light"
          }
        }
      ]
    },
    {
      "cell_type": "code",
      "metadata": {
        "id": "zdFjVU8OkVCk"
      },
      "source": [
        "mean = dulieuxettuyen['T1'].mean()\n",
        "mode = dulieuxettuyen['T1'].mode()\n",
        "median = dulieuxettuyen['T1'].median()"
      ],
      "execution_count": null,
      "outputs": []
    },
    {
      "cell_type": "code",
      "metadata": {
        "colab": {
          "base_uri": "https://localhost:8080/"
        },
        "id": "YQSB43rFkVMS",
        "outputId": "a42ea335-5cff-4e12-bb60-6e138a0670d1"
      },
      "source": [
        "print('mean= ',mean)\n",
        "print('median= ',median)"
      ],
      "execution_count": null,
      "outputs": [
        {
          "output_type": "stream",
          "name": "stdout",
          "text": [
            "mean=  5.946000000000001\n",
            "median=  5.85\n"
          ]
        }
      ]
    },
    {
      "cell_type": "code",
      "metadata": {
        "colab": {
          "base_uri": "https://localhost:8080/"
        },
        "id": "zMtuhaNnkVUp",
        "outputId": "6a771e85-ccc1-4687-f104-77a4d1e3f3b9"
      },
      "source": [
        "print('mode= ',mode)"
      ],
      "execution_count": null,
      "outputs": [
        {
          "output_type": "stream",
          "name": "stdout",
          "text": [
            "mode=  0    5.2\n",
            "1    5.3\n",
            "2    7.3\n",
            "dtype: float64\n"
          ]
        }
      ]
    },
    {
      "cell_type": "markdown",
      "metadata": {
        "id": "gXKLW3_Kkc22"
      },
      "source": [
        "Skewness và Kurtosis"
      ]
    },
    {
      "cell_type": "code",
      "metadata": {
        "colab": {
          "base_uri": "https://localhost:8080/"
        },
        "id": "vdTagiyMkdPk",
        "outputId": "4aa445e4-0d48-4d86-ab80-ae9269e7ac5b"
      },
      "source": [
        "\n",
        "from scipy.stats import skew\n",
        "skew(dulieuxettuyen['T1'], bias=False)"
      ],
      "execution_count": null,
      "outputs": [
        {
          "output_type": "execute_result",
          "data": {
            "text/plain": [
              "-0.17824317486762223"
            ]
          },
          "metadata": {},
          "execution_count": 64
        }
      ]
    },
    {
      "cell_type": "code",
      "metadata": {
        "colab": {
          "base_uri": "https://localhost:8080/"
        },
        "id": "9WOd1U4DkfEL",
        "outputId": "4acf6288-39cd-413d-b5b6-03f606dc21e2"
      },
      "source": [
        "from scipy.stats import kurtosis\n",
        "kurtosis(dulieuxettuyen['T1'], bias=False)"
      ],
      "execution_count": null,
      "outputs": [
        {
          "output_type": "execute_result",
          "data": {
            "text/plain": [
              "-0.48010360836580546"
            ]
          },
          "metadata": {},
          "execution_count": 65
        }
      ]
    },
    {
      "cell_type": "markdown",
      "metadata": {
        "id": "Gh7kQ5ozkgDS"
      },
      "source": [
        "\n",
        "**Bài Tập**\n",
        "\n",
        "**Bước 1: Tính các đại lượng thống kê cho hai tập dữ liệu**"
      ]
    },
    {
      "cell_type": "code",
      "metadata": {
        "colab": {
          "base_uri": "https://localhost:8080/",
          "height": 419
        },
        "id": "1BjYLPMDkhpa",
        "outputId": "6eb7c089-2556-4fe3-88bd-9f662d4ac7c5"
      },
      "source": [
        "import pandas as pd\n",
        "dulieu = pd.read_csv('https://raw.githubusercontent.com/huynhhoc/DataAnalystDeepLearning/main/Data/babies.csv', sep='\\s+')\n",
        "dulieu"
      ],
      "execution_count": null,
      "outputs": [
        {
          "output_type": "execute_result",
          "data": {
            "text/html": [
              "<div>\n",
              "<style scoped>\n",
              "    .dataframe tbody tr th:only-of-type {\n",
              "        vertical-align: middle;\n",
              "    }\n",
              "\n",
              "    .dataframe tbody tr th {\n",
              "        vertical-align: top;\n",
              "    }\n",
              "\n",
              "    .dataframe thead th {\n",
              "        text-align: right;\n",
              "    }\n",
              "</style>\n",
              "<table border=\"1\" class=\"dataframe\">\n",
              "  <thead>\n",
              "    <tr style=\"text-align: right;\">\n",
              "      <th></th>\n",
              "      <th>bwt</th>\n",
              "      <th>smoke</th>\n",
              "    </tr>\n",
              "  </thead>\n",
              "  <tbody>\n",
              "    <tr>\n",
              "      <th>0</th>\n",
              "      <td>120</td>\n",
              "      <td>0</td>\n",
              "    </tr>\n",
              "    <tr>\n",
              "      <th>1</th>\n",
              "      <td>113</td>\n",
              "      <td>0</td>\n",
              "    </tr>\n",
              "    <tr>\n",
              "      <th>2</th>\n",
              "      <td>128</td>\n",
              "      <td>1</td>\n",
              "    </tr>\n",
              "    <tr>\n",
              "      <th>3</th>\n",
              "      <td>123</td>\n",
              "      <td>0</td>\n",
              "    </tr>\n",
              "    <tr>\n",
              "      <th>4</th>\n",
              "      <td>108</td>\n",
              "      <td>1</td>\n",
              "    </tr>\n",
              "    <tr>\n",
              "      <th>...</th>\n",
              "      <td>...</td>\n",
              "      <td>...</td>\n",
              "    </tr>\n",
              "    <tr>\n",
              "      <th>1231</th>\n",
              "      <td>113</td>\n",
              "      <td>0</td>\n",
              "    </tr>\n",
              "    <tr>\n",
              "      <th>1232</th>\n",
              "      <td>128</td>\n",
              "      <td>0</td>\n",
              "    </tr>\n",
              "    <tr>\n",
              "      <th>1233</th>\n",
              "      <td>130</td>\n",
              "      <td>1</td>\n",
              "    </tr>\n",
              "    <tr>\n",
              "      <th>1234</th>\n",
              "      <td>125</td>\n",
              "      <td>0</td>\n",
              "    </tr>\n",
              "    <tr>\n",
              "      <th>1235</th>\n",
              "      <td>117</td>\n",
              "      <td>0</td>\n",
              "    </tr>\n",
              "  </tbody>\n",
              "</table>\n",
              "<p>1236 rows × 2 columns</p>\n",
              "</div>"
            ],
            "text/plain": [
              "      bwt  smoke\n",
              "0     120      0\n",
              "1     113      0\n",
              "2     128      1\n",
              "3     123      0\n",
              "4     108      1\n",
              "...   ...    ...\n",
              "1231  113      0\n",
              "1232  128      0\n",
              "1233  130      1\n",
              "1234  125      0\n",
              "1235  117      0\n",
              "\n",
              "[1236 rows x 2 columns]"
            ]
          },
          "metadata": {},
          "execution_count": 66
        }
      ]
    },
    {
      "cell_type": "code",
      "metadata": {
        "id": "O8HsXd6YkkoB"
      },
      "source": [
        "dl1 = pd.DataFrame(dulieu)\n",
        "dlhutthuoc = dl1[dl1['smoke'] == 1]\n",
        "dlkohutthuoc = dl1[dl1['smoke'] == 0]"
      ],
      "execution_count": null,
      "outputs": []
    },
    {
      "cell_type": "code",
      "metadata": {
        "id": "IWY15Y4xklmx"
      },
      "source": [
        "d = {'TH1: Bà mẹ hút thuốc' : pd.Series([dlhutthuoc['bwt'].count(),dlhutthuoc['bwt'].min(),\n",
        "                        dlhutthuoc['bwt'].max(),dlhutthuoc['bwt'].mean(),\n",
        "                        dlhutthuoc['bwt'].std(),dlhutthuoc['bwt'].var(),\n",
        "                        dlhutthuoc['bwt'].median(),dlhutthuoc['bwt'].quantile(.0),\n",
        "                        dlhutthuoc['bwt'].quantile(.25),dlhutthuoc['bwt'].quantile(.5),\n",
        "                       dlhutthuoc['bwt'].quantile(.75),dlhutthuoc['bwt'].quantile(1),\n",
        "                       dlhutthuoc['bwt'].quantile(.75)-dlhutthuoc['bwt'].quantile(.25),\n",
        "                       dlhutthuoc['bwt'].kurtosis()+2.98,dlhutthuoc['bwt'].skew()],\n",
        "                       index=['Số lượng','Min','Max','Mean','Sd','Var','Median','Quantile 0%',\n",
        "                              'Quantile 25%','Quantile 50%','Quantile 75%','Quantile 100%','IQR',\n",
        "                              'Kurtosis','Skewness']),\n",
        "     'TH2: Bà mẹ không hút thuốc' : pd.Series([dlkohutthuoc['bwt'].count(),dlkohutthuoc['bwt'].min(),\n",
        "                        dlkohutthuoc['bwt'].max(),dlkohutthuoc['bwt'].mean(),\n",
        "                        dlkohutthuoc['bwt'].std(),dlkohutthuoc['bwt'].var(),\n",
        "                        dlkohutthuoc['bwt'].median(),dlkohutthuoc['bwt'].quantile(.0),\n",
        "                        dlkohutthuoc['bwt'].quantile(.25),dlkohutthuoc['bwt'].quantile(.5),\n",
        "                       dlkohutthuoc['bwt'].quantile(.75),dlkohutthuoc['bwt'].quantile(1),\n",
        "                       dlkohutthuoc['bwt'].quantile(.75)-dlkohutthuoc['bwt'].quantile(.25),\n",
        "                       dlkohutthuoc['bwt'].kurtosis()+2.98,dlkohutthuoc['bwt'].skew()],\n",
        "                       index=['Số lượng','Min','Max','Mean','Sd','Var','Median','Quantile 0%',\n",
        "                              'Quantile 25%','Quantile 50%','Quantile 75%','Quantile 100%','IQR',\n",
        "                              'Kurtosis','Skewness'])}"
      ],
      "execution_count": null,
      "outputs": []
    },
    {
      "cell_type": "code",
      "metadata": {
        "colab": {
          "base_uri": "https://localhost:8080/",
          "height": 514
        },
        "id": "-rE188Lhk50W",
        "outputId": "335e8112-c9a1-4b69-ca85-bba1c2a027d7"
      },
      "source": [
        "dt = pd.DataFrame(d)\n",
        "dt"
      ],
      "execution_count": null,
      "outputs": [
        {
          "output_type": "execute_result",
          "data": {
            "text/html": [
              "<div>\n",
              "<style scoped>\n",
              "    .dataframe tbody tr th:only-of-type {\n",
              "        vertical-align: middle;\n",
              "    }\n",
              "\n",
              "    .dataframe tbody tr th {\n",
              "        vertical-align: top;\n",
              "    }\n",
              "\n",
              "    .dataframe thead th {\n",
              "        text-align: right;\n",
              "    }\n",
              "</style>\n",
              "<table border=\"1\" class=\"dataframe\">\n",
              "  <thead>\n",
              "    <tr style=\"text-align: right;\">\n",
              "      <th></th>\n",
              "      <th>TH1: Bà mẹ hút thuốc</th>\n",
              "      <th>TH2: Bà mẹ không hút thuốc</th>\n",
              "    </tr>\n",
              "  </thead>\n",
              "  <tbody>\n",
              "    <tr>\n",
              "      <th>Số lượng</th>\n",
              "      <td>484.000000</td>\n",
              "      <td>742.000000</td>\n",
              "    </tr>\n",
              "    <tr>\n",
              "      <th>Min</th>\n",
              "      <td>58.000000</td>\n",
              "      <td>55.000000</td>\n",
              "    </tr>\n",
              "    <tr>\n",
              "      <th>Max</th>\n",
              "      <td>163.000000</td>\n",
              "      <td>176.000000</td>\n",
              "    </tr>\n",
              "    <tr>\n",
              "      <th>Mean</th>\n",
              "      <td>114.109504</td>\n",
              "      <td>123.047170</td>\n",
              "    </tr>\n",
              "    <tr>\n",
              "      <th>Sd</th>\n",
              "      <td>18.098946</td>\n",
              "      <td>17.398689</td>\n",
              "    </tr>\n",
              "    <tr>\n",
              "      <th>Var</th>\n",
              "      <td>327.571835</td>\n",
              "      <td>302.714371</td>\n",
              "    </tr>\n",
              "    <tr>\n",
              "      <th>Median</th>\n",
              "      <td>115.000000</td>\n",
              "      <td>123.000000</td>\n",
              "    </tr>\n",
              "    <tr>\n",
              "      <th>Quantile 0%</th>\n",
              "      <td>58.000000</td>\n",
              "      <td>55.000000</td>\n",
              "    </tr>\n",
              "    <tr>\n",
              "      <th>Quantile 25%</th>\n",
              "      <td>102.000000</td>\n",
              "      <td>113.000000</td>\n",
              "    </tr>\n",
              "    <tr>\n",
              "      <th>Quantile 50%</th>\n",
              "      <td>115.000000</td>\n",
              "      <td>123.000000</td>\n",
              "    </tr>\n",
              "    <tr>\n",
              "      <th>Quantile 75%</th>\n",
              "      <td>126.000000</td>\n",
              "      <td>134.000000</td>\n",
              "    </tr>\n",
              "    <tr>\n",
              "      <th>Quantile 100%</th>\n",
              "      <td>163.000000</td>\n",
              "      <td>176.000000</td>\n",
              "    </tr>\n",
              "    <tr>\n",
              "      <th>IQR</th>\n",
              "      <td>24.000000</td>\n",
              "      <td>21.000000</td>\n",
              "    </tr>\n",
              "    <tr>\n",
              "      <th>Kurtosis</th>\n",
              "      <td>2.980408</td>\n",
              "      <td>4.032213</td>\n",
              "    </tr>\n",
              "    <tr>\n",
              "      <th>Skewness</th>\n",
              "      <td>-0.033700</td>\n",
              "      <td>-0.187363</td>\n",
              "    </tr>\n",
              "  </tbody>\n",
              "</table>\n",
              "</div>"
            ],
            "text/plain": [
              "               TH1: Bà mẹ hút thuốc  TH2: Bà mẹ không hút thuốc\n",
              "Số lượng                 484.000000                  742.000000\n",
              "Min                       58.000000                   55.000000\n",
              "Max                      163.000000                  176.000000\n",
              "Mean                     114.109504                  123.047170\n",
              "Sd                        18.098946                   17.398689\n",
              "Var                      327.571835                  302.714371\n",
              "Median                   115.000000                  123.000000\n",
              "Quantile 0%               58.000000                   55.000000\n",
              "Quantile 25%             102.000000                  113.000000\n",
              "Quantile 50%             115.000000                  123.000000\n",
              "Quantile 75%             126.000000                  134.000000\n",
              "Quantile 100%            163.000000                  176.000000\n",
              "IQR                       24.000000                   21.000000\n",
              "Kurtosis                   2.980408                    4.032213\n",
              "Skewness                  -0.033700                   -0.187363"
            ]
          },
          "metadata": {},
          "execution_count": 69
        }
      ]
    },
    {
      "cell_type": "markdown",
      "metadata": {
        "id": "U5r1PRzLkoeP"
      },
      "source": [
        "### **Bước 2:** Phân tích dữ liệu dựa trên các đại lượng vừa tính\n",
        "\n",
        "1. Xét tập dữ liệu ứng với trường hợp bà mẹ có hút thuốc\n",
        "\n",
        "Vị trí tập trung của dữ liệu: khoảng giá trị : 114-115\n",
        "\n",
        "Tính biến động của dữ liệu:\n",
        "\n",
        "Phương sai (variance): var=327.571835\n",
        "\n",
        "Độ lệch chuẩn (standard deviation): sd= 18.098946\n",
        "\n",
        "Khoảng giá trị: min=58, max=163 -> range=105\n",
        "\n",
        "Nhận xét: Như vậy dữ liệu phân bố gần nhau.\n",
        "\n",
        "Hình dạng phân bố của dữ liệu:\n",
        "\n",
        "Độ lệch: Skewness= -0.033700\n",
        "\n",
        "Độ bè nhọn của đỉnh dữ liệu: Kurtosis=2.980408\n",
        "\n",
        "Nhận xét: Như vậy dữ liệu hơi lệch về phía trái, và đỉnh nhọn, hai bên giảm tốc độ vừa phải.\n",
        "\n",
        "2.Xét tập dữ liệu ứng với trường hợp bà mẹ không hút thuốc\n",
        "\n",
        "Vị trí tập trung của dữ liệu: khoảng giá trị: 123\n",
        "\n",
        "Tính biến động của dữ liệu:\n",
        "\n",
        "Phương sai (variance): 302.714371\n",
        "\n",
        "Độ lệch chuẩn (standard deviation): sd= 17.398689\n",
        "\n",
        "Khoảng giá trị: min= 55, max= 176 ->range = 121\n",
        "\n",
        "Nhận xét: Như vậy dữ liệu hơi lệch về phía trái, và đỉnh nhọn, hai bên giảm tốc độ vừa phải.\n",
        "\n",
        "Hình dạng phân bố của dữ liệu:\n",
        "\n",
        "Độ lệch: Skewness= -0.187363\n",
        "\n",
        "Độ bè nhọn của đỉnh dữ liệu: Kurtosis= 4.032213\n",
        "\n",
        "Nhận xét: Như vậy dữ liệu hơi lệch về phía trái, và đỉnh nhọn, hai bên giảm tốc độ vừa phải.\n",
        "\n",
        "Bước 3:So sánh các giá trị thống kê mô tả của hai tập dữ liệu.\n",
        "\n",
        "Sự khác biệt về vị trí tập trung dữ liệu : chênh lệch khoảng 123-115 = 8\n",
        "\n",
        "Nhận xét: khác biệt không đáng kể"
      ]
    },
    {
      "cell_type": "code",
      "metadata": {
        "colab": {
          "base_uri": "https://localhost:8080/",
          "height": 173
        },
        "id": "-bS7_jT5kqGy",
        "outputId": "7d0b4d28-2eff-4677-8976-b711a32267ea"
      },
      "source": [
        "d1 =pd.DataFrame({'TH1: Bà mẹ hút thuốc' : pd.Series([dlhutthuoc['bwt'].std(skipna=True),dlhutthuoc['bwt'].var(skipna=True),\n",
        "                                         dlhutthuoc['bwt'].max()-dlhutthuoc['bwt'].min(),\n",
        "                                         dlhutthuoc['bwt'].quantile(.75)-dlhutthuoc['bwt'].quantile(.25)],\n",
        "                                         index=['Sd','Var','Range','IQR']),\n",
        "      'TH2: Bà mẹ không hút thuốc' : pd.Series([dlkohutthuoc['bwt'].std(skipna=True),dlkohutthuoc['bwt'].var(skipna=True),\n",
        "                                         dlkohutthuoc['bwt'].max()-dlkohutthuoc['bwt'].min(),\n",
        "                                         dlkohutthuoc['bwt'].quantile(.75)-dlkohutthuoc['bwt'].quantile(.25)],\n",
        "                                         index=['Sd','Var','Range','IQR'])})\n",
        "d1['Chênh lệch (TH2-TH1)'] = d1['TH2: Bà mẹ không hút thuốc']-d1['TH1: Bà mẹ hút thuốc']\n",
        "d1"
      ],
      "execution_count": null,
      "outputs": [
        {
          "output_type": "execute_result",
          "data": {
            "text/html": [
              "<div>\n",
              "<style scoped>\n",
              "    .dataframe tbody tr th:only-of-type {\n",
              "        vertical-align: middle;\n",
              "    }\n",
              "\n",
              "    .dataframe tbody tr th {\n",
              "        vertical-align: top;\n",
              "    }\n",
              "\n",
              "    .dataframe thead th {\n",
              "        text-align: right;\n",
              "    }\n",
              "</style>\n",
              "<table border=\"1\" class=\"dataframe\">\n",
              "  <thead>\n",
              "    <tr style=\"text-align: right;\">\n",
              "      <th></th>\n",
              "      <th>TH1: Bà mẹ hút thuốc</th>\n",
              "      <th>TH2: Bà mẹ không hút thuốc</th>\n",
              "      <th>Chênh lệch (TH2-TH1)</th>\n",
              "    </tr>\n",
              "  </thead>\n",
              "  <tbody>\n",
              "    <tr>\n",
              "      <th>Sd</th>\n",
              "      <td>18.098946</td>\n",
              "      <td>17.398689</td>\n",
              "      <td>-0.700257</td>\n",
              "    </tr>\n",
              "    <tr>\n",
              "      <th>Var</th>\n",
              "      <td>327.571835</td>\n",
              "      <td>302.714371</td>\n",
              "      <td>-24.857464</td>\n",
              "    </tr>\n",
              "    <tr>\n",
              "      <th>Range</th>\n",
              "      <td>105.000000</td>\n",
              "      <td>121.000000</td>\n",
              "      <td>16.000000</td>\n",
              "    </tr>\n",
              "    <tr>\n",
              "      <th>IQR</th>\n",
              "      <td>24.000000</td>\n",
              "      <td>21.000000</td>\n",
              "      <td>-3.000000</td>\n",
              "    </tr>\n",
              "  </tbody>\n",
              "</table>\n",
              "</div>"
            ],
            "text/plain": [
              "       TH1: Bà mẹ hút thuốc  TH2: Bà mẹ không hút thuốc  Chênh lệch (TH2-TH1)\n",
              "Sd                18.098946                   17.398689             -0.700257\n",
              "Var              327.571835                  302.714371            -24.857464\n",
              "Range            105.000000                  121.000000             16.000000\n",
              "IQR               24.000000                   21.000000             -3.000000"
            ]
          },
          "metadata": {},
          "execution_count": 70
        }
      ]
    },
    {
      "cell_type": "code",
      "metadata": {
        "colab": {
          "base_uri": "https://localhost:8080/",
          "height": 111
        },
        "id": "Ev2Szc3LlBJ8",
        "outputId": "d141067a-6eda-4ed6-c6e1-6fe2c7d0c1df"
      },
      "source": [
        "d2 = pd.DataFrame({'TH1: Bà mẹ hút thuốc' : pd.Series([dlhutthuoc['bwt'].skew(), dlhutthuoc['bwt'].kurtosis()+2.98],\n",
        "                   index = ['Skewness','Kurtosis']),\n",
        "                   'TH2: Bà mẹ không hút thuốc' : pd.Series([dlkohutthuoc['bwt'].skew(), dlkohutthuoc['bwt'].kurtosis()+2.98],\n",
        "                   index = ['Skewness','Kurtosis'])})\n",
        "d2['Chênh lệch (TH2-TH1)']=d2['TH2: Bà mẹ không hút thuốc']-d2['TH1: Bà mẹ hút thuốc']\n",
        "d2"
      ],
      "execution_count": null,
      "outputs": [
        {
          "output_type": "execute_result",
          "data": {
            "text/html": [
              "<div>\n",
              "<style scoped>\n",
              "    .dataframe tbody tr th:only-of-type {\n",
              "        vertical-align: middle;\n",
              "    }\n",
              "\n",
              "    .dataframe tbody tr th {\n",
              "        vertical-align: top;\n",
              "    }\n",
              "\n",
              "    .dataframe thead th {\n",
              "        text-align: right;\n",
              "    }\n",
              "</style>\n",
              "<table border=\"1\" class=\"dataframe\">\n",
              "  <thead>\n",
              "    <tr style=\"text-align: right;\">\n",
              "      <th></th>\n",
              "      <th>TH1: Bà mẹ hút thuốc</th>\n",
              "      <th>TH2: Bà mẹ không hút thuốc</th>\n",
              "      <th>Chênh lệch (TH2-TH1)</th>\n",
              "    </tr>\n",
              "  </thead>\n",
              "  <tbody>\n",
              "    <tr>\n",
              "      <th>Skewness</th>\n",
              "      <td>-0.033700</td>\n",
              "      <td>-0.187363</td>\n",
              "      <td>-0.153664</td>\n",
              "    </tr>\n",
              "    <tr>\n",
              "      <th>Kurtosis</th>\n",
              "      <td>2.980408</td>\n",
              "      <td>4.032213</td>\n",
              "      <td>1.051805</td>\n",
              "    </tr>\n",
              "  </tbody>\n",
              "</table>\n",
              "</div>"
            ],
            "text/plain": [
              "          TH1: Bà mẹ hút thuốc  ...  Chênh lệch (TH2-TH1)\n",
              "Skewness             -0.033700  ...             -0.153664\n",
              "Kurtosis              2.980408  ...              1.051805\n",
              "\n",
              "[2 rows x 3 columns]"
            ]
          },
          "metadata": {},
          "execution_count": 71
        }
      ]
    }
  ]
}